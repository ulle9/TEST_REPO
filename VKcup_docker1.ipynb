{
  "nbformat": 4,
  "nbformat_minor": 0,
  "metadata": {
    "colab": {
      "name": "VKcup_docker1.ipynb",
      "provenance": [],
      "collapsed_sections": [],
      "mount_file_id": "1mP7X6F0D5d37Ak0z536jPnop3khDB6UU",
      "authorship_tag": "ABX9TyNEOjmUZ+CMeHpjmFUhlcsS",
      "include_colab_link": true
    },
    "kernelspec": {
      "name": "python3",
      "display_name": "Python 3"
    }
  },
  "cells": [
    {
      "cell_type": "markdown",
      "metadata": {
        "id": "view-in-github",
        "colab_type": "text"
      },
      "source": [
        "<a href=\"https://colab.research.google.com/github/ulle9/TEST_REPO/blob/master/VKcup_docker1.ipynb\" target=\"_parent\"><img src=\"https://colab.research.google.com/assets/colab-badge.svg\" alt=\"Open In Colab\"/></a>"
      ]
    },
    {
      "cell_type": "code",
      "metadata": {
        "id": "nzggvEWNz-BA",
        "colab_type": "code",
        "outputId": "36229c31-2c40-4f60-aa16-ae1c2ba1a8f1",
        "colab": {
          "base_uri": "https://localhost:8080/",
          "height": 366
        }
      },
      "source": [
        "!pip install catboost"
      ],
      "execution_count": 4,
      "outputs": [
        {
          "output_type": "stream",
          "text": [
            "Collecting catboost\n",
            "\u001b[?25l  Downloading https://files.pythonhosted.org/packages/94/ec/12b9a42b2ea7dfe5b602f235692ab2b61ee1334ff34334a15902272869e8/catboost-0.22-cp36-none-manylinux1_x86_64.whl (64.4MB)\n",
            "\u001b[K     |████████████████████████████████| 64.4MB 69kB/s \n",
            "\u001b[?25hRequirement already satisfied: six in /usr/local/lib/python3.6/dist-packages (from catboost) (1.12.0)\n",
            "Requirement already satisfied: numpy>=1.16.0 in /usr/local/lib/python3.6/dist-packages (from catboost) (1.17.5)\n",
            "Requirement already satisfied: plotly in /usr/local/lib/python3.6/dist-packages (from catboost) (4.4.1)\n",
            "Requirement already satisfied: graphviz in /usr/local/lib/python3.6/dist-packages (from catboost) (0.10.1)\n",
            "Requirement already satisfied: matplotlib in /usr/local/lib/python3.6/dist-packages (from catboost) (3.1.3)\n",
            "Requirement already satisfied: pandas>=0.24.0 in /usr/local/lib/python3.6/dist-packages (from catboost) (0.25.3)\n",
            "Requirement already satisfied: scipy in /usr/local/lib/python3.6/dist-packages (from catboost) (1.4.1)\n",
            "Requirement already satisfied: retrying>=1.3.3 in /usr/local/lib/python3.6/dist-packages (from plotly->catboost) (1.3.3)\n",
            "Requirement already satisfied: kiwisolver>=1.0.1 in /usr/local/lib/python3.6/dist-packages (from matplotlib->catboost) (1.1.0)\n",
            "Requirement already satisfied: pyparsing!=2.0.4,!=2.1.2,!=2.1.6,>=2.0.1 in /usr/local/lib/python3.6/dist-packages (from matplotlib->catboost) (2.4.6)\n",
            "Requirement already satisfied: cycler>=0.10 in /usr/local/lib/python3.6/dist-packages (from matplotlib->catboost) (0.10.0)\n",
            "Requirement already satisfied: python-dateutil>=2.1 in /usr/local/lib/python3.6/dist-packages (from matplotlib->catboost) (2.6.1)\n",
            "Requirement already satisfied: pytz>=2017.2 in /usr/local/lib/python3.6/dist-packages (from pandas>=0.24.0->catboost) (2018.9)\n",
            "Requirement already satisfied: setuptools in /usr/local/lib/python3.6/dist-packages (from kiwisolver>=1.0.1->matplotlib->catboost) (45.2.0)\n",
            "Installing collected packages: catboost\n",
            "Successfully installed catboost-0.22\n"
          ],
          "name": "stdout"
        }
      ]
    },
    {
      "cell_type": "code",
      "metadata": {
        "id": "hHSUGmyvzt56",
        "colab_type": "code",
        "outputId": "c14cce23-b061-4ecf-fc0c-905f2ee1a9f9",
        "colab": {
          "base_uri": "https://localhost:8080/",
          "height": 129
        }
      },
      "source": [
        "import pandas as pd\n",
        "import numpy as np\n",
        "import sys\n",
        "from catboost import CatBoostRegressor\n",
        "\n",
        "from google.colab import drive\n",
        "drive.mount('/content/drive')"
      ],
      "execution_count": 5,
      "outputs": [
        {
          "output_type": "stream",
          "text": [
            "Go to this URL in a browser: https://accounts.google.com/o/oauth2/auth?client_id=947318989803-6bn6qk8qdgf4n4g3pfee6491hc0brc4i.apps.googleusercontent.com&redirect_uri=urn%3aietf%3awg%3aoauth%3a2.0%3aoob&response_type=code&scope=email%20https%3a%2f%2fwww.googleapis.com%2fauth%2fdocs.test%20https%3a%2f%2fwww.googleapis.com%2fauth%2fdrive%20https%3a%2f%2fwww.googleapis.com%2fauth%2fdrive.photos.readonly%20https%3a%2f%2fwww.googleapis.com%2fauth%2fpeopleapi.readonly\n",
            "\n",
            "Enter your authorization code:\n",
            "··········\n",
            "Mounted at /content/drive\n"
          ],
          "name": "stdout"
        }
      ]
    },
    {
      "cell_type": "code",
      "metadata": {
        "id": "Hnt3uWqEzwaf",
        "colab_type": "code",
        "colab": {}
      },
      "source": [
        "#DATA\n",
        "# df_users = pd.read_csv(r'/content/drive/My Drive/vkcup/users.tsv', delimiter='\\t')\n",
        "df_history = pd.read_csv(r'/content/drive/My Drive/vkcup/history.tsv', delimiter='\\t')\n",
        "df_test = pd.read_csv(r'/content/drive/My Drive/vkcup/validate.tsv', delimiter='\\t')\n",
        "# df_asc_feat = pd.read_csv(r'/content/drive/My Drive/vkcup/acs_feat.csv', index_col=0)\n",
        "# df_hist_feats = pd.read_csv(r'/content/drive/My Drive/vkcup/df_hist_feats.csv', index_col=0)"
      ],
      "execution_count": 0,
      "outputs": []
    },
    {
      "cell_type": "code",
      "metadata": {
        "id": "KsKHE7yk-RKj",
        "colab_type": "code",
        "colab": {}
      },
      "source": [
        "# def series_to_matrix(x, matrix):\n",
        "#   n=0\n",
        "#   for i in x:\n",
        "#     for j in [int(k) for k in i.split(',')]:\n",
        "#       # print(n,j-1)\n",
        "#       matrix[n,j-1] = 1\n",
        "#     n+=1"
      ],
      "execution_count": 0,
      "outputs": []
    },
    {
      "cell_type": "code",
      "metadata": {
        "colab_type": "code",
        "id": "ZRioFeeHiEFi",
        "colab": {}
      },
      "source": [
        "# # BIG MATRIX CREATION\n",
        "# publishers = np.zeros([DF0.shape[0], 21]).astype(int)\n",
        "# series_to_matrix(DF0.publishers, publishers)\n",
        "# print(publishers.shape)\n",
        "# users = np.zeros([DF0.shape[0], 27768]).astype(int)\n",
        "# series_to_matrix(DF0.user_ids, users)\n",
        "# print(users.shape)"
      ],
      "execution_count": 0,
      "outputs": []
    },
    {
      "cell_type": "markdown",
      "metadata": {
        "id": "1WORTqwfVH8x",
        "colab_type": "text"
      },
      "source": [
        "# HISTORY FEATURE ENGINEERING"
      ]
    },
    {
      "cell_type": "code",
      "metadata": {
        "id": "r2hkYq0dHpb1",
        "colab_type": "code",
        "colab": {}
      },
      "source": [
        "#DELTA HOUR\n",
        "delta_hour = df_test.hour_end - df_test.hour_start\n",
        "df_delta_hour = pd.DataFrame(delta_hour, columns = ['delta_hour']) \n",
        "# #audience_size/delta\n",
        "# audsize_delta = (df_delta_hour.values.reshape(1,-1))/(DF0.audience_size.values.reshape(1,-1))\n",
        "# df_audsize_delta = pd.DataFrame(audsize_delta.reshape(-1,1),  columns = ['audsize_delta']) \n",
        "# #cpm*delta\n",
        "# cpm_delta = df_delta_hour.values.reshape(1,-1)*DF0.cpm.values.reshape(1,-1)\n",
        "# df_cpm_delta = pd.DataFrame(cpm_delta.reshape(-1,1), columns = ['cpm_delta']) "
      ],
      "execution_count": 0,
      "outputs": []
    },
    {
      "cell_type": "code",
      "metadata": {
        "id": "2HkiiKiZB4ub",
        "colab_type": "code",
        "colab": {}
      },
      "source": [
        "hist_feats = df_history[['cpm','hour','user_id']].groupby('user_id').agg({'cpm':'mean', 'hour':'count'}).\\\n",
        "  rename(columns={'cpm':'cpm_mean', 'hour':'show_counts'})"
      ],
      "execution_count": 0,
      "outputs": []
    },
    {
      "cell_type": "code",
      "metadata": {
        "id": "bMdByLJ6SSPT",
        "colab_type": "code",
        "outputId": "9f9bf395-3394-4f26-dc38-22acce86c1de",
        "colab": {
          "base_uri": "https://localhost:8080/",
          "height": 146
        }
      },
      "source": [
        "# HISTORY CPM & COUNT NEW\n",
        "def func_hist_cpm(string):\n",
        "  q = np.array([int(i) for i in string.split(',')])\n",
        "  return hist_feats.loc[q,'cpm_mean'].sum()/len(q)\n",
        "def func_hist_count(string):\n",
        "  q = np.array([int(i) for i in string.split(',')])\n",
        "  return hist_feats.loc[q,'show_counts'].sum()/len(q)\n",
        "\n",
        "df_func_hist_cpm = df_test.user_ids.apply(func_hist_cpm)\n",
        "df_func_hist_count = df_test.user_ids.apply(func_hist_count)\n",
        "df_hist_feats = pd.DataFrame({'0':df_func_hist_cpm, '1': df_func_hist_count})"
      ],
      "execution_count": 11,
      "outputs": [
        {
          "output_type": "stream",
          "text": [
            "/usr/local/lib/python3.6/dist-packages/pandas/core/indexing.py:961: FutureWarning: \n",
            "Passing list-likes to .loc or [] with any missing label will raise\n",
            "KeyError in the future, you can use .reindex() as an alternative.\n",
            "\n",
            "See the documentation here:\n",
            "https://pandas.pydata.org/pandas-docs/stable/user_guide/indexing.html#deprecate-loc-reindex-listlike\n",
            "  return getattr(section, self.name)[new_key]\n"
          ],
          "name": "stderr"
        }
      ]
    },
    {
      "cell_type": "markdown",
      "metadata": {
        "id": "UcsZfboRVfcg",
        "colab_type": "text"
      },
      "source": [
        "# SUMMARY"
      ]
    },
    {
      "cell_type": "code",
      "metadata": {
        "id": "7W_kPiV7hJ_q",
        "colab_type": "code",
        "colab": {}
      },
      "source": [
        "df_test1 = df_test.drop(['publishers', 'user_ids'], axis=1)\n",
        "df_test1 = df_test1.drop(['hour_start', 'hour_end'], axis=1)\n",
        "# DF1 = DF1.merge(df_asc_feat, left_index=True, right_index=True)\n",
        "df_test1 = df_test1.merge(df_delta_hour, left_index=True, right_index=True)\n",
        "df_test1 = df_test1.merge(df_hist_feats, left_index=True, right_index=True)\n",
        "# DF1 = DF1.merge(df_audsize_delta, left_index=True, right_index=True)\n",
        "# DF1 = DF1.merge(df_cpm_delta, left_index=True, right_index=True)"
      ],
      "execution_count": 0,
      "outputs": []
    },
    {
      "cell_type": "markdown",
      "metadata": {
        "id": "N7UtcAn3Vl32",
        "colab_type": "text"
      },
      "source": [
        "# PREDICTION"
      ]
    },
    {
      "cell_type": "code",
      "metadata": {
        "id": "JjpLfAnRCwDE",
        "colab_type": "code",
        "outputId": "bfd1f972-9b64-4a68-94e2-2134af99627b",
        "colab": {
          "base_uri": "https://localhost:8080/",
          "height": 424
        }
      },
      "source": [
        "df_test1"
      ],
      "execution_count": 16,
      "outputs": [
        {
          "output_type": "execute_result",
          "data": {
            "text/html": [
              "<div>\n",
              "<style scoped>\n",
              "    .dataframe tbody tr th:only-of-type {\n",
              "        vertical-align: middle;\n",
              "    }\n",
              "\n",
              "    .dataframe tbody tr th {\n",
              "        vertical-align: top;\n",
              "    }\n",
              "\n",
              "    .dataframe thead th {\n",
              "        text-align: right;\n",
              "    }\n",
              "</style>\n",
              "<table border=\"1\" class=\"dataframe\">\n",
              "  <thead>\n",
              "    <tr style=\"text-align: right;\">\n",
              "      <th></th>\n",
              "      <th>cpm</th>\n",
              "      <th>audience_size</th>\n",
              "      <th>delta_hour</th>\n",
              "      <th>0</th>\n",
              "      <th>1</th>\n",
              "    </tr>\n",
              "  </thead>\n",
              "  <tbody>\n",
              "    <tr>\n",
              "      <th>0</th>\n",
              "      <td>220.0</td>\n",
              "      <td>1906</td>\n",
              "      <td>95</td>\n",
              "      <td>277.192969</td>\n",
              "      <td>40.567156</td>\n",
              "    </tr>\n",
              "    <tr>\n",
              "      <th>1</th>\n",
              "      <td>312.0</td>\n",
              "      <td>1380</td>\n",
              "      <td>6</td>\n",
              "      <td>179.039494</td>\n",
              "      <td>128.990580</td>\n",
              "    </tr>\n",
              "    <tr>\n",
              "      <th>2</th>\n",
              "      <td>70.0</td>\n",
              "      <td>888</td>\n",
              "      <td>20</td>\n",
              "      <td>281.236039</td>\n",
              "      <td>43.977477</td>\n",
              "    </tr>\n",
              "    <tr>\n",
              "      <th>3</th>\n",
              "      <td>240.0</td>\n",
              "      <td>440</td>\n",
              "      <td>82</td>\n",
              "      <td>253.803214</td>\n",
              "      <td>38.665909</td>\n",
              "    </tr>\n",
              "    <tr>\n",
              "      <th>4</th>\n",
              "      <td>262.0</td>\n",
              "      <td>1476</td>\n",
              "      <td>238</td>\n",
              "      <td>327.261172</td>\n",
              "      <td>35.524390</td>\n",
              "    </tr>\n",
              "    <tr>\n",
              "      <th>...</th>\n",
              "      <td>...</td>\n",
              "      <td>...</td>\n",
              "      <td>...</td>\n",
              "      <td>...</td>\n",
              "      <td>...</td>\n",
              "    </tr>\n",
              "    <tr>\n",
              "      <th>1003</th>\n",
              "      <td>127.0</td>\n",
              "      <td>368</td>\n",
              "      <td>59</td>\n",
              "      <td>251.821533</td>\n",
              "      <td>37.201087</td>\n",
              "    </tr>\n",
              "    <tr>\n",
              "      <th>1004</th>\n",
              "      <td>90.0</td>\n",
              "      <td>484</td>\n",
              "      <td>4</td>\n",
              "      <td>231.280577</td>\n",
              "      <td>41.793388</td>\n",
              "    </tr>\n",
              "    <tr>\n",
              "      <th>1005</th>\n",
              "      <td>122.0</td>\n",
              "      <td>704</td>\n",
              "      <td>5</td>\n",
              "      <td>178.998032</td>\n",
              "      <td>115.884943</td>\n",
              "    </tr>\n",
              "    <tr>\n",
              "      <th>1006</th>\n",
              "      <td>138.0</td>\n",
              "      <td>1210</td>\n",
              "      <td>237</td>\n",
              "      <td>250.687855</td>\n",
              "      <td>35.154545</td>\n",
              "    </tr>\n",
              "    <tr>\n",
              "      <th>1007</th>\n",
              "      <td>35.0</td>\n",
              "      <td>1000</td>\n",
              "      <td>59</td>\n",
              "      <td>253.052819</td>\n",
              "      <td>40.238000</td>\n",
              "    </tr>\n",
              "  </tbody>\n",
              "</table>\n",
              "<p>1008 rows × 5 columns</p>\n",
              "</div>"
            ],
            "text/plain": [
              "        cpm  audience_size  delta_hour           0           1\n",
              "0     220.0           1906          95  277.192969   40.567156\n",
              "1     312.0           1380           6  179.039494  128.990580\n",
              "2      70.0            888          20  281.236039   43.977477\n",
              "3     240.0            440          82  253.803214   38.665909\n",
              "4     262.0           1476         238  327.261172   35.524390\n",
              "...     ...            ...         ...         ...         ...\n",
              "1003  127.0            368          59  251.821533   37.201087\n",
              "1004   90.0            484           4  231.280577   41.793388\n",
              "1005  122.0            704           5  178.998032  115.884943\n",
              "1006  138.0           1210         237  250.687855   35.154545\n",
              "1007   35.0           1000          59  253.052819   40.238000\n",
              "\n",
              "[1008 rows x 5 columns]"
            ]
          },
          "metadata": {
            "tags": []
          },
          "execution_count": 16
        }
      ]
    },
    {
      "cell_type": "code",
      "metadata": {
        "id": "5flUEWaZr9y5",
        "colab_type": "code",
        "outputId": "7d0b1e63-e19b-4c56-f8ab-e770227f79dc",
        "colab": {
          "base_uri": "https://localhost:8080/",
          "height": 35
        }
      },
      "source": [
        "# LOAD MODELS\n",
        "ctr1 = CatBoostRegressor(early_stopping_rounds=10)\n",
        "ctr2 = CatBoostRegressor(early_stopping_rounds=10)\n",
        "ctr3 = CatBoostRegressor(early_stopping_rounds=10)\n",
        "ctr1.load_model(r'/content/drive/My Drive/vkcup/ctr1')\n",
        "ctr2.load_model(r'/content/drive/My Drive/vkcup/ctr2')\n",
        "ctr3.load_model(r'/content/drive/My Drive/vkcup/ctr3')"
      ],
      "execution_count": 150,
      "outputs": [
        {
          "output_type": "execute_result",
          "data": {
            "text/plain": [
              "<catboost.core.CatBoostRegressor at 0x7f2af1010fd0>"
            ]
          },
          "metadata": {
            "tags": []
          },
          "execution_count": 150
        }
      ]
    },
    {
      "cell_type": "code",
      "metadata": {
        "id": "0DhfaLDIRORh",
        "colab_type": "code",
        "colab": {}
      },
      "source": [
        "# PREDICTION\n",
        "pred10 = ctr1.predict(df_test1).clip(0.0000001,1)\n",
        "pred20 = ctr2.predict(df_test1).clip(0.0000001,1)\n",
        "pred30 = ctr3.predict(df_test1).clip(0.0000001,1)\n",
        "prediction = pd.DataFrame({'at_least_one':pred10,'at_least_two':pred20, 'at_least_three':pred30})"
      ],
      "execution_count": 0,
      "outputs": []
    },
    {
      "cell_type": "code",
      "metadata": {
        "id": "9Zq5JgslT0lS",
        "colab_type": "code",
        "colab": {}
      },
      "source": [
        "# SAVE RESULT\n",
        "prediction.to_csv(r'/content/drive/My Drive/vkcup/results.tsv', sep='\\t', index=False, header=True)"
      ],
      "execution_count": 0,
      "outputs": []
    },
    {
      "cell_type": "markdown",
      "metadata": {
        "id": "DcI_iYk8VxEo",
        "colab_type": "text"
      },
      "source": [
        "# FIT MODELS BLOCK (comment before push!)"
      ]
    },
    {
      "cell_type": "code",
      "metadata": {
        "id": "rM-mvKkFWOcZ",
        "colab_type": "code",
        "colab": {}
      },
      "source": [
        "answers = pd.read_csv(r'/content/drive/My Drive/vkcup/validate_answers.tsv', delimiter='\\t')"
      ],
      "execution_count": 0,
      "outputs": []
    },
    {
      "cell_type": "code",
      "metadata": {
        "id": "E3FCfSfEY8K4",
        "colab_type": "code",
        "colab": {}
      },
      "source": [
        "# CROSS-VALIDATION INDEXES\n",
        "n = set(range(1008))\n",
        "fold1_v = list(np.random.choice(list(n), 252, replace=False))\n",
        "n -= set(fold1_v)\n",
        "fold1_t = list(set(range(1008))-set(fold1_v))\n",
        "\n",
        "fold2_v = list(np.random.choice(list(n), 252, replace=False))\n",
        "n -= set(fold2_v)\n",
        "fold2_t = list(set(range(1008))-set(fold2_v))\n",
        "\n",
        "fold3_v = list(np.random.choice(list(n), 252, replace=False))\n",
        "n -= set(fold3_v)\n",
        "fold3_t = list(set(range(1008))-set(fold3_v))\n",
        "\n",
        "fold4_v = list(n)\n",
        "fold4_t = list(set(range(1008))-set(fold4_v))\n",
        "folds = ((fold1_t, fold1_v), (fold2_t, fold2_v), (fold3_t, fold3_v), (fold4_t, fold4_v),)"
      ],
      "execution_count": 0,
      "outputs": []
    },
    {
      "cell_type": "code",
      "metadata": {
        "id": "QdU5da50Y8tL",
        "colab_type": "code",
        "colab": {
          "base_uri": "https://localhost:8080/",
          "height": 182
        },
        "outputId": "d647758d-c61b-4edf-d61a-93d3998768eb"
      },
      "source": [
        "# CROSS-VALIDATION SCORE\n",
        "score = []\n",
        "for i in folds:\n",
        "  ctr1 = CatBoostRegressor(early_stopping_rounds=10, loss_function='MAPE')\n",
        "  ctr2 = CatBoostRegressor(early_stopping_rounds=10, loss_function='MAPE')\n",
        "  ctr3 = CatBoostRegressor(early_stopping_rounds=10, loss_function='MAPE')\n",
        "\n",
        "  ctr1.fit(df_test1.iloc[i[0],:], answers.at_least_one.iloc[i[0]], eval_set=(df_test1.iloc[i[1],:], answers.at_least_one.iloc[i[1]]), verbose=False)\n",
        "  ctr2.fit(df_test1.iloc[i[0],:], answers.at_least_two.iloc[i[0]], eval_set=(df_test1.iloc[i[1],:], answers.at_least_two.iloc[i[1]]), verbose=False)\n",
        "  ctr3.fit(df_test1.iloc[i[0],:], answers.at_least_three.iloc[i[0]], eval_set=(df_test1.iloc[i[1],:], answers.at_least_three.iloc[i[1]]), verbose=False)\n",
        "\n",
        "  pred1 = ctr1.predict(df_test1).clip(0.0000001,1)\n",
        "  pred2 = ctr2.predict(df_test1).clip(0.0000001,1)\n",
        "  pred3 = ctr3.predict(df_test1).clip(0.0000001,1)\n",
        "  predictions = pd.DataFrame({'at_least_one':pred1,'at_least_two':pred2, 'at_least_three':pred3})\n",
        "  print(ctr1.best_score_, ctr1.tree_count_)\n",
        "  print(get_smoothed_mean_log_accuracy_ratio(answers, predictions))\n",
        "  score.append(get_smoothed_mean_log_accuracy_ratio(answers, predictions))\n",
        "print(score, sum(score)/4)"
      ],
      "execution_count": 163,
      "outputs": [
        {
          "output_type": "stream",
          "text": [
            "{'learn': {'MAPE': 0.057318940133533176}, 'validation': {'MAPE': 0.07305244917681081}} 120\n",
            "59.79\n",
            "{'learn': {'MAPE': 0.060942006906858186}, 'validation': {'MAPE': 0.07355019320384334}} 73\n",
            "64.23\n",
            "{'learn': {'MAPE': 0.059147408346681425}, 'validation': {'MAPE': 0.07289210186517844}} 102\n",
            "62.15\n",
            "{'learn': {'MAPE': 0.06426590194473146}, 'validation': {'MAPE': 0.06081446265408669}} 73\n",
            "71.94\n",
            "[59.79, 64.23, 62.15, 71.94] 64.5275\n"
          ],
          "name": "stdout"
        }
      ]
    },
    {
      "cell_type": "code",
      "metadata": {
        "id": "hU2HIol0WOlD",
        "colab_type": "code",
        "colab": {
          "base_uri": "https://localhost:8080/",
          "height": 35
        },
        "outputId": "75931e3d-b706-4696-91b8-2028ad7db5fa"
      },
      "source": [
        "# FULL_DF FIT/PREDICT\n",
        "ctr1 = CatBoostRegressor(early_stopping_rounds=10, loss_function='MAPE')\n",
        "ctr2 = CatBoostRegressor(early_stopping_rounds=10, loss_function='MAPE')\n",
        "ctr3 = CatBoostRegressor(early_stopping_rounds=10, loss_function='MAPE')\n",
        "ctr1.fit(df_test1, answers.at_least_one, verbose=False)\n",
        "ctr2.fit(df_test1, answers.at_least_two, verbose=False)\n",
        "ctr3.fit(df_test1, answers.at_least_three, verbose=False)\n",
        "pred1 = ctr1.predict(df_test1).clip(0.0000001,1)\n",
        "pred2 = ctr2.predict(df_test1).clip(0.0000001,1)\n",
        "pred3 = ctr3.predict(df_test1).clip(0.0000001,1)\n",
        "prediction = pd.DataFrame({'at_least_one':pred1,'at_least_two':pred2, 'at_least_three':pred3})\n",
        "print(get_smoothed_mean_log_accuracy_ratio(answers, prediction))"
      ],
      "execution_count": 167,
      "outputs": [
        {
          "output_type": "stream",
          "text": [
            "36.36\n"
          ],
          "name": "stdout"
        }
      ]
    },
    {
      "cell_type": "code",
      "metadata": {
        "id": "_Wc9tXPyWOsH",
        "colab_type": "code",
        "colab": {}
      },
      "source": [
        "# SAVE MODELS\n",
        "ctr1.save_model(r'/content/drive/My Drive/vkcup/ctr1')\n",
        "ctr2.save_model(r'/content/drive/My Drive/vkcup/ctr2')\n",
        "ctr3.save_model(r'/content/drive/My Drive/vkcup/ctr3')"
      ],
      "execution_count": 0,
      "outputs": []
    },
    {
      "cell_type": "code",
      "metadata": {
        "id": "0WegG4JQWOvv",
        "colab_type": "code",
        "colab": {
          "base_uri": "https://localhost:8080/",
          "height": 35
        },
        "outputId": "f6fa89d8-c115-4dba-81d5-d7f75492dad7"
      },
      "source": [
        "a = ctr1.get_params()\n",
        "a\n"
      ],
      "execution_count": 122,
      "outputs": [
        {
          "output_type": "execute_result",
          "data": {
            "text/plain": [
              "{'early_stopping_rounds': 10, 'loss_function': 'RMSE'}"
            ]
          },
          "metadata": {
            "tags": []
          },
          "execution_count": 122
        }
      ]
    },
    {
      "cell_type": "code",
      "metadata": {
        "id": "ttemgRpuWOyL",
        "colab_type": "code",
        "colab": {}
      },
      "source": [
        ""
      ],
      "execution_count": 0,
      "outputs": []
    },
    {
      "cell_type": "code",
      "metadata": {
        "id": "SRsJno1zWO14",
        "colab_type": "code",
        "colab": {}
      },
      "source": [
        ""
      ],
      "execution_count": 0,
      "outputs": []
    },
    {
      "cell_type": "code",
      "metadata": {
        "id": "WFCqDT_PWO4w",
        "colab_type": "code",
        "colab": {}
      },
      "source": [
        ""
      ],
      "execution_count": 0,
      "outputs": []
    },
    {
      "cell_type": "code",
      "metadata": {
        "id": "utD7rIXmRoMk",
        "colab_type": "code",
        "colab": {}
      },
      "source": [
        "# METRIC\n",
        "def get_smoothed_log_mape_column_value(responses_column, answers_column, epsilon):\n",
        "    return np.abs(np.log((responses_column + epsilon)/(answers_column + epsilon) )).mean()\n",
        "\n",
        "\n",
        "def get_smoothed_mean_log_accuracy_ratio(answers, responses, epsilon=0.005):\n",
        "    log_accuracy_ratio_mean = np.array(\n",
        "        [   get_smoothed_log_mape_column_value(responses.at_least_one, answers.at_least_one, epsilon),\n",
        "            get_smoothed_log_mape_column_value(responses.at_least_two, answers.at_least_two, epsilon),\n",
        "            get_smoothed_log_mape_column_value(responses.at_least_three, answers.at_least_three, epsilon)]).mean()\n",
        "\n",
        "    percentage_error = 100 * (np.exp(log_accuracy_ratio_mean) - 1)\n",
        "    return percentage_error.round(decimals=2)\n",
        "print(get_smoothed_mean_log_accuracy_ratio(answers, prediction))"
      ],
      "execution_count": 0,
      "outputs": []
    },
    {
      "cell_type": "code",
      "metadata": {
        "id": "3jtfdszz7dT_",
        "colab_type": "code",
        "outputId": "985ed08f-99cc-47f9-d2f8-e58e1b71944c",
        "colab": {
          "base_uri": "https://localhost:8080/",
          "height": 35
        }
      },
      "source": [
        "print(get_smoothed_mean_log_accuracy_ratio(answers, prediction))"
      ],
      "execution_count": 152,
      "outputs": [
        {
          "output_type": "stream",
          "text": [
            "41.5\n"
          ],
          "name": "stdout"
        }
      ]
    },
    {
      "cell_type": "code",
      "metadata": {
        "id": "8Ywn1gI6chnl",
        "colab_type": "code",
        "colab": {}
      },
      "source": [
        ""
      ],
      "execution_count": 0,
      "outputs": []
    }
  ]
}